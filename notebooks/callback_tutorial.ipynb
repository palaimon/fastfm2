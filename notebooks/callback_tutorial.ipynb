{
 "cells": [
  {
   "cell_type": "code",
   "execution_count": null,
   "metadata": {},
   "outputs": [],
   "source": [
    "cd .."
   ]
  },
  {
   "cell_type": "code",
   "execution_count": null,
   "metadata": {},
   "outputs": [],
   "source": [
    "import numpy as np\n",
    "import scipy.sparse as sp\n",
    "\n",
    "from pandas import DataFrame\n",
    "\n",
    "from sklearn.datasets import make_regression\n",
    "from sklearn.metrics import mean_squared_error, median_absolute_error\n",
    "from sklearn.model_selection import train_test_split\n",
    "\n",
    "from fastfm import als"
   ]
  },
  {
   "cell_type": "markdown",
   "metadata": {},
   "source": [
    "# Callbacks in fastfm"
   ]
  },
  {
   "cell_type": "markdown",
   "metadata": {},
   "source": [
    "Callbacks are one of the key features that fastfm provides to better understand, modify and tune factorization machine models.\n",
    "\n",
    "A callback is a user provided function that get's executed at every iteration of the choosen solver. This allows the user\n",
    "to easily step into and interact with the optimization routine. This tutorial shows two use-cases\n",
    "\n",
    "- collect various performance metrics at every iteration e.g. to draw learning curves\n",
    "- to influence further iterations e.g. for early stopping to avoid overfitting"
   ]
  },
  {
   "cell_type": "markdown",
   "metadata": {},
   "source": [
    "## Create Learning Curves"
   ]
  },
  {
   "cell_type": "code",
   "execution_count": null,
   "metadata": {},
   "outputs": [],
   "source": [
    "X, y = make_regression(n_features=25, random_state=2)\n",
    "X_train, X_test, y_train, y_test = train_test_split(sp.csc_matrix(X), y, test_size=0.33, random_state=42)"
   ]
  },
  {
   "cell_type": "code",
   "execution_count": null,
   "metadata": {},
   "outputs": [],
   "source": [
    "fm = als.FMRegression(n_iter = 50, rank = 4,  l2_reg=0.4)\n",
    "\n",
    "i = 0\n",
    "records = []\n",
    "\n",
    "def callback(arg):\n",
    "    global i\n",
    "    \n",
    "    # we can evaluate onlt n'th iteration to reduce the evaluation cost\n",
    "    if i%2 == 0:\n",
    "        pred_test = fm.predict(X_test)\n",
    "        pred_train = fm.predict(X_train)\n",
    "        \n",
    "        rmse_test = np.sqrt(mean_squared_error(y_test, pred_test))\n",
    "        rmse_train = np.sqrt(mean_squared_error(y_train, pred_train))\n",
    "        \n",
    "        mae_test = median_absolute_error(y_test, pred_test)\n",
    "        mae_train = median_absolute_error(y_train, pred_train)\n",
    "        \n",
    "        records.append((rmse_train, rmse_test, mae_train, mae_test))\n",
    "    i+=1\n",
    "    \n",
    "fm.fit(X_train, y_train, callback=callback)\n",
    "\n",
    "iterations_processed_wo = i\n",
    "\n",
    "df = DataFrame.from_records(records, columns=['rmse_train', 'rmse_test', 'mae_train', 'mae_test'])\n",
    "df[['rmse_train', 'rmse_test']].plot()"
   ]
  },
  {
   "cell_type": "code",
   "execution_count": null,
   "metadata": {},
   "outputs": [],
   "source": [
    "df[['mae_train', 'mae_test']].plot()"
   ]
  },
  {
   "cell_type": "markdown",
   "metadata": {},
   "source": [
    "## Early Stopping"
   ]
  },
  {
   "cell_type": "markdown",
   "metadata": {},
   "source": [
    "The learning curves abouve clearly show that our model is overfitting already after a few iterations. Knowing this we could\n",
    "now increase the regularization `l2_reg`. However let's assume we want instead to early stopping to prevent overfitting.\n",
    "\n",
    "We therefore need to stop training as soon as the test accuracy stops to improve. Lets use our callback mechanism to achieve\n",
    "this."
   ]
  },
  {
   "cell_type": "code",
   "execution_count": null,
   "metadata": {},
   "outputs": [],
   "source": [
    "fm = als.FMRegression(n_iter = 50, rank = 4,  l2_reg=0.4)\n",
    "\n",
    "i=0\n",
    "records_mae = []\n",
    "prev_ep = -1\n",
    "\n",
    "def callback(*args):\n",
    "    global prev_ep\n",
    "    global i\n",
    "    if i%2 == 0:\n",
    "        pred_test = fm.predict(X_test)\n",
    "        pred_train = fm.predict(X_train)\n",
    "\n",
    "        mae_test = median_absolute_error(y_test, pred_test)\n",
    "        mae_train = median_absolute_error(y_train, pred_train)\n",
    "        # print(mae_test, mae_train)\n",
    "\n",
    "        if records_mae:\n",
    "            _, prev_test = records_mae[-1]\n",
    "            if prev_test < mae_test:\n",
    "                print(\"EARLY STOP!\")\n",
    "                return True \n",
    "\n",
    "        records_mae.append((mae_train, mae_test)) \n",
    "    i+=1\n",
    "    \n",
    "fm.fit(X_train, y_train, callback=callback)\n",
    "\n",
    "iterations_processed_w = i\n",
    "\n",
    "df = DataFrame.from_records(records_mae, columns=['mae_train', 'mae_test'])\n",
    "df.plot()"
   ]
  },
  {
   "cell_type": "code",
   "execution_count": null,
   "metadata": {},
   "outputs": [],
   "source": [
    "print(f\"Maximum number of Iterations: {iterations_processed_wo}\")\n",
    "print(f\"Iterations have been stoped, via early stopping callbback, at iteration: {iterations_processed_w}\")"
   ]
  },
  {
   "cell_type": "markdown",
   "metadata": {},
   "source": [
    "We hope you found this simple example on how to use callback with fastfm inspiring. The mechanism allows\n",
    "to easily implement more complex stopping rules or monitoring of the learning process."
   ]
  }
 ],
 "metadata": {
  "kernelspec": {
   "display_name": "Python 3",
   "language": "python",
   "name": "python3"
  }
 },
 "nbformat": 4,
 "nbformat_minor": 4
}
